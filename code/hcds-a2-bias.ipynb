{
 "cells": [
  {
   "cell_type": "markdown",
   "metadata": {},
   "source": [
    "**Goal: <br>Explore the concept of bias through data on Wikipedia articles - specifically, articles on political figures from a variety of countries**"
   ]
  },
  {
   "cell_type": "code",
   "execution_count": 234,
   "metadata": {},
   "outputs": [],
   "source": [
    "# Import necessary librarires\n",
    "import json\n",
    "import requests\n",
    "import pandas as pd\n",
    "import numpy as np\n",
    "from matplotlib.axis import Axis  \n",
    "import matplotlib.pyplot as plt\n",
    "import matplotlib.ticker as ticker"
   ]
  },
  {
   "cell_type": "code",
   "execution_count": 272,
   "metadata": {},
   "outputs": [
    {
     "name": "stdout",
     "output_type": "stream",
     "text": [
      "data_path: C:\\UW\\512\\data-512-a2\\code\\..\\data\\\n",
      "result_path: C:\\UW\\512\\data-512-a2\\code\\..\\result\\\n"
     ]
    }
   ],
   "source": [
    "import os\n",
    "ospath = os.path.abspath(\"__file__\")\n",
    "currentDir = os.path.dirname(ospath)\n",
    "data_path = currentDir + '\\\\..\\\\data\\\\'\n",
    "result_path =currentDir + '\\\\..\\\\result\\\\'\n",
    "\n",
    "os.makedirs(os.path.dirname(data_path), exist_ok=True) \n",
    "os.makedirs(os.path.dirname(result_path), exist_ok=True) \n",
    "\n",
    "print(\"data_path:\", data_path)\n",
    "print(\"result_path:\", result_path)\n",
    "\n",
    "fontsize = 10"
   ]
  },
  {
   "cell_type": "markdown",
   "metadata": {},
   "source": [
    "# Step 1: Getting the Article and Population Data\n",
    "\n",
    "* Article data from [politicians by country dataset](https://figshare.com/articles/dataset/Untitled_Item/5513449)\n",
    "* population data from [WPDS_2020_data.csv](https://docs.google.com/spreadsheets/d/1CFJO2zna2No5KqNm9rPK5PCACoXKzb-nycJFhV689Iw/edit?usp=sharing). It is sourced from [world population data sheet](https://www.prb.org/international/indicator/population/table/)"
   ]
  },
  {
   "cell_type": "code",
   "execution_count": 236,
   "metadata": {
    "scrolled": true
   },
   "outputs": [],
   "source": [
    "page_data = pd.read_csv(data_path + 'page_data.csv', sep=','  )\n",
    "world_Population = pd.read_csv(data_path + 'WPDS_2020_data.csv', sep=',' ,keep_default_na=False )"
   ]
  },
  {
   "cell_type": "code",
   "execution_count": 262,
   "metadata": {},
   "outputs": [
    {
     "data": {
      "text/html": [
       "<div>\n",
       "<style scoped>\n",
       "    .dataframe tbody tr th:only-of-type {\n",
       "        vertical-align: middle;\n",
       "    }\n",
       "\n",
       "    .dataframe tbody tr th {\n",
       "        vertical-align: top;\n",
       "    }\n",
       "\n",
       "    .dataframe thead th {\n",
       "        text-align: right;\n",
       "    }\n",
       "</style>\n",
       "<table border=\"1\" class=\"dataframe\">\n",
       "  <thead>\n",
       "    <tr style=\"text-align: right;\">\n",
       "      <th></th>\n",
       "      <th>page</th>\n",
       "      <th>country</th>\n",
       "      <th>rev_id</th>\n",
       "    </tr>\n",
       "  </thead>\n",
       "  <tbody>\n",
       "    <tr>\n",
       "      <th>0</th>\n",
       "      <td>Template:ZambiaProvincialMinisters</td>\n",
       "      <td>Zambia</td>\n",
       "      <td>235107991</td>\n",
       "    </tr>\n",
       "    <tr>\n",
       "      <th>1</th>\n",
       "      <td>Bir I of Kanem</td>\n",
       "      <td>Chad</td>\n",
       "      <td>355319463</td>\n",
       "    </tr>\n",
       "    <tr>\n",
       "      <th>2</th>\n",
       "      <td>Template:Zimbabwe-politician-stub</td>\n",
       "      <td>Zimbabwe</td>\n",
       "      <td>391862046</td>\n",
       "    </tr>\n",
       "    <tr>\n",
       "      <th>3</th>\n",
       "      <td>Template:Uganda-politician-stub</td>\n",
       "      <td>Uganda</td>\n",
       "      <td>391862070</td>\n",
       "    </tr>\n",
       "    <tr>\n",
       "      <th>4</th>\n",
       "      <td>Template:Namibia-politician-stub</td>\n",
       "      <td>Namibia</td>\n",
       "      <td>391862409</td>\n",
       "    </tr>\n",
       "    <tr>\n",
       "      <th>5</th>\n",
       "      <td>Template:Nigeria-politician-stub</td>\n",
       "      <td>Nigeria</td>\n",
       "      <td>391862819</td>\n",
       "    </tr>\n",
       "    <tr>\n",
       "      <th>6</th>\n",
       "      <td>Template:Colombia-politician-stub</td>\n",
       "      <td>Colombia</td>\n",
       "      <td>391863340</td>\n",
       "    </tr>\n",
       "    <tr>\n",
       "      <th>7</th>\n",
       "      <td>Template:Chile-politician-stub</td>\n",
       "      <td>Chile</td>\n",
       "      <td>391863361</td>\n",
       "    </tr>\n",
       "    <tr>\n",
       "      <th>8</th>\n",
       "      <td>Template:Fiji-politician-stub</td>\n",
       "      <td>Fiji</td>\n",
       "      <td>391863617</td>\n",
       "    </tr>\n",
       "    <tr>\n",
       "      <th>9</th>\n",
       "      <td>Template:Solomons-politician-stub</td>\n",
       "      <td>Solomon Islands</td>\n",
       "      <td>391863809</td>\n",
       "    </tr>\n",
       "  </tbody>\n",
       "</table>\n",
       "</div>"
      ],
      "text/plain": [
       "                                 page          country     rev_id\n",
       "0  Template:ZambiaProvincialMinisters           Zambia  235107991\n",
       "1                      Bir I of Kanem             Chad  355319463\n",
       "2   Template:Zimbabwe-politician-stub         Zimbabwe  391862046\n",
       "3     Template:Uganda-politician-stub           Uganda  391862070\n",
       "4    Template:Namibia-politician-stub          Namibia  391862409\n",
       "5    Template:Nigeria-politician-stub          Nigeria  391862819\n",
       "6   Template:Colombia-politician-stub         Colombia  391863340\n",
       "7      Template:Chile-politician-stub            Chile  391863361\n",
       "8       Template:Fiji-politician-stub             Fiji  391863617\n",
       "9   Template:Solomons-politician-stub  Solomon Islands  391863809"
      ]
     },
     "execution_count": 262,
     "metadata": {},
     "output_type": "execute_result"
    }
   ],
   "source": [
    "page_data.head(10)"
   ]
  },
  {
   "cell_type": "markdown",
   "metadata": {},
   "source": [
    "# Step 2: Cleaning the Data\n",
    "* page_data.csv: Exclude page names that start with \"Template:\"\n",
    "* population data: Keep country & SubRegion mapping \n",
    "* population data: filter out all regional population count and keep only country type data. We can only use country name to join with article (page_data.csv) data "
   ]
  },
  {
   "cell_type": "code",
   "execution_count": 238,
   "metadata": {},
   "outputs": [],
   "source": [
    "page_data_clean = page_data[~page_data[\"page\"].str.startswith(\"Template:\")]\n",
    "rev_id_List = page_data_clean[\"rev_id\"]"
   ]
  },
  {
   "cell_type": "code",
   "execution_count": 239,
   "metadata": {},
   "outputs": [
    {
     "data": {
      "text/html": [
       "<div>\n",
       "<style scoped>\n",
       "    .dataframe tbody tr th:only-of-type {\n",
       "        vertical-align: middle;\n",
       "    }\n",
       "\n",
       "    .dataframe tbody tr th {\n",
       "        vertical-align: top;\n",
       "    }\n",
       "\n",
       "    .dataframe thead th {\n",
       "        text-align: right;\n",
       "    }\n",
       "</style>\n",
       "<table border=\"1\" class=\"dataframe\">\n",
       "  <thead>\n",
       "    <tr style=\"text-align: right;\">\n",
       "      <th></th>\n",
       "      <th>FIPS</th>\n",
       "      <th>Name</th>\n",
       "      <th>Type</th>\n",
       "      <th>TimeFrame</th>\n",
       "      <th>Data (M)</th>\n",
       "      <th>Population</th>\n",
       "      <th>index</th>\n",
       "      <th>sub_region</th>\n",
       "    </tr>\n",
       "  </thead>\n",
       "  <tbody>\n",
       "    <tr>\n",
       "      <th>158</th>\n",
       "      <td>CN</td>\n",
       "      <td>China</td>\n",
       "      <td>Country</td>\n",
       "      <td>2019</td>\n",
       "      <td>1402.385</td>\n",
       "      <td>1402385000</td>\n",
       "      <td>158</td>\n",
       "      <td>EAST ASIA</td>\n",
       "    </tr>\n",
       "    <tr>\n",
       "      <th>139</th>\n",
       "      <td>IN</td>\n",
       "      <td>India</td>\n",
       "      <td>Country</td>\n",
       "      <td>2019</td>\n",
       "      <td>1400.100</td>\n",
       "      <td>1400100000</td>\n",
       "      <td>139</td>\n",
       "      <td>SOUTH ASIA</td>\n",
       "    </tr>\n",
       "  </tbody>\n",
       "</table>\n",
       "</div>"
      ],
      "text/plain": [
       "    FIPS   Name     Type  TimeFrame  Data (M)  Population  index  sub_region\n",
       "158   CN  China  Country       2019  1402.385  1402385000    158   EAST ASIA\n",
       "139   IN  India  Country       2019  1400.100  1400100000    139  SOUTH ASIA"
      ]
     },
     "execution_count": 239,
     "metadata": {},
     "output_type": "execute_result"
    }
   ],
   "source": [
    "world_Population['index'] = world_Population.index\n",
    "subRejoins = world_Population[world_Population[\"Type\"] == \"Sub-Region\"].groupby(['Name'])['index'].agg(\"max\").sort_values('index').reset_index()\n",
    "\n",
    "def getRegion(ci):\n",
    "    subRegion =  ((subRejoins[subRejoins['index'] <= ci ].sort_values('index',ascending = False).head(1)['Name']).values)\n",
    "    return subRegion[0] if subRegion.size > 0 else None\n",
    "world_Population.loc[:,'sub_region'] = world_Population.apply(lambda x: getRegion(x['index']),axis = 1)\n",
    "country_Population = world_Population[world_Population[\"Type\"] == \"Country\"]\n",
    "country_Population.sort_values('Population',ascending = False).head(2)"
   ]
  },
  {
   "cell_type": "markdown",
   "metadata": {},
   "source": [
    "# Step 3: Getting Article Quality Predictions\n",
    "* Get the predicted quality scores for each article in the Wikipedia dataset using a machine learning system called ORES\n",
    "* The article quality estimates are, from best to worst:\n",
    "    * FA - Featured article\n",
    "    * GA - Good article\n",
    "    * B - B-class article\n",
    "    * C - C-class article\n",
    "    * Start - Start-class article\n",
    "    * Stub - Stub-class article\n",
    "* Using (ORES REST API)[https://ores.wikimedia.org/v3/#!/scoring/get_v3_scores_context_revid_model] get the prediction. \n",
    "* API parameters: revision Id (rev_id from page_data set) , model (\"articlequality\")\n",
    "* capture API return value - \"prediction\"\n",
    "* you can send multiple rev_ids as batch to get response (based on expirement 50 rev_ids in one batch is best option)"
   ]
  },
  {
   "cell_type": "code",
   "execution_count": 11,
   "metadata": {},
   "outputs": [],
   "source": [
    "def api_getRevIdInfo(url, rev_id_list):\n",
    "    call = requests.get(url.format(rev_id=rev_id_list))\n",
    "    response = call.json()\n",
    "    \n",
    "    return response"
   ]
  },
  {
   "cell_type": "code",
   "execution_count": null,
   "metadata": {},
   "outputs": [],
   "source": [
    "url = 'https://ores.wikimedia.org/v3/scores/enwiki?models=articlequality&revids={rev_id}'\n",
    "binSize = 50\n",
    "rev_id_List_bins = [\"|\".join(str(x) for x in rev_id_List[i*binSize:(i+1)*binSize]) for i in range(int((len(rev_id_List)-1)/binSize)+1)]\n",
    "#len(x[1].split('|'))\n",
    "len(rev_id_List_bins)"
   ]
  },
  {
   "cell_type": "code",
   "execution_count": null,
   "metadata": {},
   "outputs": [],
   "source": [
    "ORES_prediction = []\n",
    "for rev_id_List_bin in rev_id_List_bins:\n",
    "    ORES_response = api_getRevIdInfo(url, rev_id_List_bin)\n",
    "    #print(ORES_response)\n",
    "    rev_id_pred = [ (i, \"NA\" if \"error\" in j[\"articlequality\"] else j[\"articlequality\"][\"score\"][\"prediction\"]) for i, j in ORES_response[\"enwiki\"][\"scores\"].items()]\n",
    "    ORES_prediction.extend(rev_id_pred)\n",
    "df_ORES_prediction = pd.DataFrame(ORES_prediction, columns = [\"rev_id\",\"prediction\"])\n",
    "df_ORES_prediction = pd.DataFrame(ORES_prediction, columns = [\"rev_id\",\"prediction\"])\n",
    "df_ORES_prediction.to_csv( data_path + 'rev_id_predictions.csv', sep=',', index = False, header = True)"
   ]
  },
  {
   "cell_type": "code",
   "execution_count": 20,
   "metadata": {},
   "outputs": [],
   "source": [
    "# Read processed data from this project \n",
    "df_ORES_prediction = pd.read_csv(data_path + 'rev_id_predictions.csv', sep=','  )"
   ]
  },
  {
   "cell_type": "code",
   "execution_count": 23,
   "metadata": {},
   "outputs": [
    {
     "data": {
      "text/html": [
       "<div>\n",
       "<style scoped>\n",
       "    .dataframe tbody tr th:only-of-type {\n",
       "        vertical-align: middle;\n",
       "    }\n",
       "\n",
       "    .dataframe tbody tr th {\n",
       "        vertical-align: top;\n",
       "    }\n",
       "\n",
       "    .dataframe thead th {\n",
       "        text-align: right;\n",
       "    }\n",
       "</style>\n",
       "<table border=\"1\" class=\"dataframe\">\n",
       "  <thead>\n",
       "    <tr style=\"text-align: right;\">\n",
       "      <th></th>\n",
       "      <th>rev_id</th>\n",
       "    </tr>\n",
       "    <tr>\n",
       "      <th>prediction</th>\n",
       "      <th></th>\n",
       "    </tr>\n",
       "  </thead>\n",
       "  <tbody>\n",
       "    <tr>\n",
       "      <th>B</th>\n",
       "      <td>726</td>\n",
       "    </tr>\n",
       "    <tr>\n",
       "      <th>C</th>\n",
       "      <td>5929</td>\n",
       "    </tr>\n",
       "    <tr>\n",
       "      <th>FA</th>\n",
       "      <td>290</td>\n",
       "    </tr>\n",
       "    <tr>\n",
       "      <th>GA</th>\n",
       "      <td>771</td>\n",
       "    </tr>\n",
       "    <tr>\n",
       "      <th>Start</th>\n",
       "      <td>14499</td>\n",
       "    </tr>\n",
       "    <tr>\n",
       "      <th>Stub</th>\n",
       "      <td>24210</td>\n",
       "    </tr>\n",
       "  </tbody>\n",
       "</table>\n",
       "</div>"
      ],
      "text/plain": [
       "            rev_id\n",
       "prediction        \n",
       "B              726\n",
       "C             5929\n",
       "FA             290\n",
       "GA             771\n",
       "Start        14499\n",
       "Stub         24210"
      ]
     },
     "execution_count": 23,
     "metadata": {},
     "output_type": "execute_result"
    }
   ],
   "source": [
    "df_ORES_prediction.groupby(['prediction']).agg(\"count\")"
   ]
  },
  {
   "cell_type": "markdown",
   "metadata": {},
   "source": [
    "# Step 4: Combining the Datasets\n",
    "\n",
    "* Merge the wikipedia data and population data together using country field\n",
    "* Exclude not matching records - either population dataset does not have an entry for the equivalent Wikipedia country, or vise versa. Output them to wp_wpds_countries-no_match.csv\n",
    "* Output final data set to wp_wpds_politicians_by_country.csv\n",
    "* Final data set schema: \n",
    "    * country\n",
    "    * article_name\n",
    "    * revision_id\n",
    "    * article_quality_est\n",
    "    * population"
   ]
  },
  {
   "cell_type": "code",
   "execution_count": 31,
   "metadata": {},
   "outputs": [
    {
     "data": {
      "text/plain": [
       "country                 object\n",
       "article_name            object\n",
       "revision_id            float64\n",
       "article_quality_est     object\n",
       "population             float64\n",
       "dtype: object"
      ]
     },
     "execution_count": 31,
     "metadata": {},
     "output_type": "execute_result"
    }
   ],
   "source": [
    "wp_wpds_country = page_data_clean.merge(country_Population, left_on='country',right_on = 'Name', how='outer') \\\n",
    "    .merge(df_ORES_prediction, left_on='rev_id',right_on = 'rev_id', how='outer')  \n",
    "\n",
    "wp_wpds_country = wp_wpds_country[[\"country\",\"page\",\"rev_id\",\"prediction\",\"Population\"]]\n",
    "    #.set_axis(['country', 'article_name', 'revision_id', 'article_quality_est', 'population'], axis=1, inplace=True)\n",
    "wp_wpds_country.columns = ['country', 'article_name', 'revision_id', 'article_quality_est', 'population']\n",
    "\n",
    "wp_wpds_countries_no_match = wp_wpds_country[wp_wpds_country[\"country\"].isna() | wp_wpds_country[\"population\"].isna() ]\n",
    "wp_wpds_politicians_by_country = wp_wpds_country[ ~(wp_wpds_country[\"country\"].isna() | wp_wpds_country[\"population\"].isna()) ]\n",
    "\n",
    "\n",
    "#wp_wpds_country.to_csv( data_path + 'wp_wpds_country.csv', sep=',', index = False, header = True)\n",
    "wp_wpds_countries_no_match.to_csv( data_path + 'wp_wpds_countries_no_match.csv', sep=',', index = False, header = True)\n",
    "wp_wpds_politicians_by_country.to_csv( data_path + 'wp_wpds_politicians_by_country.csv', sep=',', index = False, header = True)\n",
    "\n",
    "wp_wpds_country.dtypes"
   ]
  },
  {
   "cell_type": "code",
   "execution_count": 36,
   "metadata": {},
   "outputs": [
    {
     "data": {
      "text/html": [
       "<div>\n",
       "<style scoped>\n",
       "    .dataframe tbody tr th:only-of-type {\n",
       "        vertical-align: middle;\n",
       "    }\n",
       "\n",
       "    .dataframe tbody tr th {\n",
       "        vertical-align: top;\n",
       "    }\n",
       "\n",
       "    .dataframe thead th {\n",
       "        text-align: right;\n",
       "    }\n",
       "</style>\n",
       "<table border=\"1\" class=\"dataframe\">\n",
       "  <thead>\n",
       "    <tr style=\"text-align: right;\">\n",
       "      <th></th>\n",
       "      <th>country</th>\n",
       "      <th>article_name</th>\n",
       "      <th>revision_id</th>\n",
       "      <th>article_quality_est</th>\n",
       "      <th>population</th>\n",
       "    </tr>\n",
       "  </thead>\n",
       "  <tbody>\n",
       "    <tr>\n",
       "      <th>0</th>\n",
       "      <td>Chad</td>\n",
       "      <td>Bir I of Kanem</td>\n",
       "      <td>355319463.0</td>\n",
       "      <td>Stub</td>\n",
       "      <td>16877000.0</td>\n",
       "    </tr>\n",
       "    <tr>\n",
       "      <th>1</th>\n",
       "      <td>Chad</td>\n",
       "      <td>Abdullah II of Kanem</td>\n",
       "      <td>498683267.0</td>\n",
       "      <td>Stub</td>\n",
       "      <td>16877000.0</td>\n",
       "    </tr>\n",
       "    <tr>\n",
       "      <th>2</th>\n",
       "      <td>Chad</td>\n",
       "      <td>Salmama II of Kanem</td>\n",
       "      <td>565745353.0</td>\n",
       "      <td>Stub</td>\n",
       "      <td>16877000.0</td>\n",
       "    </tr>\n",
       "    <tr>\n",
       "      <th>3</th>\n",
       "      <td>Chad</td>\n",
       "      <td>Kuri I of Kanem</td>\n",
       "      <td>565745365.0</td>\n",
       "      <td>Stub</td>\n",
       "      <td>16877000.0</td>\n",
       "    </tr>\n",
       "    <tr>\n",
       "      <th>4</th>\n",
       "      <td>Chad</td>\n",
       "      <td>Mohammed I of Kanem</td>\n",
       "      <td>565745375.0</td>\n",
       "      <td>Stub</td>\n",
       "      <td>16877000.0</td>\n",
       "    </tr>\n",
       "  </tbody>\n",
       "</table>\n",
       "</div>"
      ],
      "text/plain": [
       "  country          article_name  revision_id article_quality_est  population\n",
       "0    Chad        Bir I of Kanem  355319463.0                Stub  16877000.0\n",
       "1    Chad  Abdullah II of Kanem  498683267.0                Stub  16877000.0\n",
       "2    Chad   Salmama II of Kanem  565745353.0                Stub  16877000.0\n",
       "3    Chad       Kuri I of Kanem  565745365.0                Stub  16877000.0\n",
       "4    Chad   Mohammed I of Kanem  565745375.0                Stub  16877000.0"
      ]
     },
     "execution_count": 36,
     "metadata": {},
     "output_type": "execute_result"
    }
   ],
   "source": [
    "wp_wpds_politicians_by_country = pd.read_csv(data_path + 'wp_wpds_politicians_by_country.csv', sep=','  )\n",
    "wp_wpds_politicians_by_country.head()"
   ]
  },
  {
   "cell_type": "markdown",
   "metadata": {},
   "source": [
    "# Step 5: Analysis\n",
    "\n",
    "* For analysis include sub-region\n",
    "* Find high quality articles using prediction value (high quality article if prediction is FA or GA)\n",
    "* Calculate percentage of articles-per-population using [total articles from a country]/[country population] <br> Ex: if a country has a population of 10,000 people, and you found 10 articles about politicians from that country, then the percentage of articles-per-population would be .1%.\n",
    "* Calculate percentage of high-quality articles-per-population using [high-quality articles from a country]/[country population] <br>Ex: if a country with 10,000 population has 10 articles about politicians, and 2 of them are FA or GA class articles, then the percentage of high-quality articles would be 20%\n"
   ]
  },
  {
   "cell_type": "code",
   "execution_count": 35,
   "metadata": {},
   "outputs": [
    {
     "data": {
      "text/html": [
       "<div>\n",
       "<style scoped>\n",
       "    .dataframe tbody tr th:only-of-type {\n",
       "        vertical-align: middle;\n",
       "    }\n",
       "\n",
       "    .dataframe tbody tr th {\n",
       "        vertical-align: top;\n",
       "    }\n",
       "\n",
       "    .dataframe thead th {\n",
       "        text-align: right;\n",
       "    }\n",
       "</style>\n",
       "<table border=\"1\" class=\"dataframe\">\n",
       "  <thead>\n",
       "    <tr style=\"text-align: right;\">\n",
       "      <th></th>\n",
       "      <th>country</th>\n",
       "      <th>article_name</th>\n",
       "      <th>revision_id</th>\n",
       "      <th>article_quality_est</th>\n",
       "      <th>population</th>\n",
       "      <th>Name</th>\n",
       "      <th>sub_region</th>\n",
       "    </tr>\n",
       "  </thead>\n",
       "  <tbody>\n",
       "    <tr>\n",
       "      <th>0</th>\n",
       "      <td>Chad</td>\n",
       "      <td>Bir I of Kanem</td>\n",
       "      <td>355319463.0</td>\n",
       "      <td>Stub</td>\n",
       "      <td>16877000.0</td>\n",
       "      <td>Chad</td>\n",
       "      <td>MIDDLE AFRICA</td>\n",
       "    </tr>\n",
       "  </tbody>\n",
       "</table>\n",
       "</div>"
      ],
      "text/plain": [
       "  country    article_name  revision_id article_quality_est  population  Name  \\\n",
       "0    Chad  Bir I of Kanem  355319463.0                Stub  16877000.0  Chad   \n",
       "\n",
       "      sub_region  \n",
       "0  MIDDLE AFRICA  "
      ]
     },
     "execution_count": 35,
     "metadata": {},
     "output_type": "execute_result"
    }
   ],
   "source": [
    "wp_wpds_politicians_by_country_subregion = wp_wpds_politicians_by_country.merge(country_Population[['Name', 'sub_region']], left_on='country',right_on = 'Name', how='left')\n",
    "wp_wpds_politicians_by_country_subregion.head(1)"
   ]
  },
  {
   "cell_type": "code",
   "execution_count": 37,
   "metadata": {},
   "outputs": [
    {
     "data": {
      "text/plain": [
       "country                     object\n",
       "article_name                object\n",
       "revision_id                float64\n",
       "article_quality_est         object\n",
       "population                 float64\n",
       "Name                        object\n",
       "sub_region                  object\n",
       "is_high_quality_article       bool\n",
       "dtype: object"
      ]
     },
     "execution_count": 37,
     "metadata": {},
     "output_type": "execute_result"
    }
   ],
   "source": [
    "wp_wpds_politicians_by_country_subregion.loc[:,'is_high_quality_article'] =  np.where((wp_wpds_politicians_by_country_subregion['article_quality_est'] == \"GA\") | (wp_wpds_politicians_by_country_subregion['article_quality_est'] == \"FA\"),True,False)\n",
    "wp_wpds_politicians_by_country_subregion.dtypes"
   ]
  },
  {
   "cell_type": "code",
   "execution_count": 56,
   "metadata": {},
   "outputs": [
    {
     "data": {
      "text/plain": [
       "country                44842\n",
       "article_name           44842\n",
       "revision_id            44842\n",
       "article_quality_est    44568\n",
       "population             44842\n",
       "dtype: int64"
      ]
     },
     "execution_count": 56,
     "metadata": {},
     "output_type": "execute_result"
    }
   ],
   "source": [
    "wp_wpds_politicians_by_country.count()"
   ]
  },
  {
   "cell_type": "code",
   "execution_count": 91,
   "metadata": {},
   "outputs": [
    {
     "data": {
      "text/html": [
       "<div>\n",
       "<style scoped>\n",
       "    .dataframe tbody tr th:only-of-type {\n",
       "        vertical-align: middle;\n",
       "    }\n",
       "\n",
       "    .dataframe tbody tr th {\n",
       "        vertical-align: top;\n",
       "    }\n",
       "\n",
       "    .dataframe thead th {\n",
       "        text-align: right;\n",
       "    }\n",
       "</style>\n",
       "<table border=\"1\" class=\"dataframe\">\n",
       "  <thead>\n",
       "    <tr style=\"text-align: right;\">\n",
       "      <th></th>\n",
       "      <th>country</th>\n",
       "      <th>sub_region</th>\n",
       "      <th>population</th>\n",
       "      <th>high_quality_article_count</th>\n",
       "      <th>low_quality_article_count</th>\n",
       "      <th>total_articles_count</th>\n",
       "      <th>total_articles_percentage_per_population</th>\n",
       "      <th>high_quality_articles_percentage_per_population</th>\n",
       "    </tr>\n",
       "  </thead>\n",
       "  <tbody>\n",
       "    <tr>\n",
       "      <th>54</th>\n",
       "      <td>Finland</td>\n",
       "      <td>Channel Islands</td>\n",
       "      <td>5529000.0</td>\n",
       "      <td>0</td>\n",
       "      <td>570</td>\n",
       "      <td>570</td>\n",
       "      <td>0.000103</td>\n",
       "      <td>0.0</td>\n",
       "    </tr>\n",
       "    <tr>\n",
       "      <th>36</th>\n",
       "      <td>Comoros</td>\n",
       "      <td>EASTERN AFRICA</td>\n",
       "      <td>870000.0</td>\n",
       "      <td>0</td>\n",
       "      <td>51</td>\n",
       "      <td>51</td>\n",
       "      <td>0.000059</td>\n",
       "      <td>0.0</td>\n",
       "    </tr>\n",
       "  </tbody>\n",
       "</table>\n",
       "</div>"
      ],
      "text/plain": [
       "    country       sub_region  population  high_quality_article_count  \\\n",
       "54  Finland  Channel Islands   5529000.0                           0   \n",
       "36  Comoros   EASTERN AFRICA    870000.0                           0   \n",
       "\n",
       "    low_quality_article_count  total_articles_count  \\\n",
       "54                        570                   570   \n",
       "36                         51                    51   \n",
       "\n",
       "    total_articles_percentage_per_population  \\\n",
       "54                                  0.000103   \n",
       "36                                  0.000059   \n",
       "\n",
       "    high_quality_articles_percentage_per_population  \n",
       "54                                              0.0  \n",
       "36                                              0.0  "
      ]
     },
     "metadata": {},
     "output_type": "display_data"
    }
   ],
   "source": [
    "df_group = wp_wpds_politicians_by_country_subregion.groupby(['country','sub_region','is_high_quality_article','population'])['revision_id'].count().rename(\"article_count\").reset_index()\n",
    "df_group.loc[:,'high_quality_article_count'] =  np.where(df_group['is_high_quality_article'] ,df_group['article_count'],0)\n",
    "df_group.loc[:,'low_quality_article_count'] =  np.where(~df_group['is_high_quality_article'] ,df_group['article_count'],0)\n",
    "df_group = df_group.groupby(['country','sub_region','population'])['high_quality_article_count','low_quality_article_count'].sum().reset_index()\n",
    "df_group.loc[:,'total_articles_count'] = df_group['high_quality_article_count'] + df_group['low_quality_article_count']\n",
    "df_group.loc[:,'total_articles_percentage_per_population'] = df_group['total_articles_count']/df_group['population']\n",
    "df_group.loc[:,'high_quality_articles_percentage_per_population'] = df_group['high_quality_article_count']/df_group['population']\n",
    "\n",
    "df_group.style.hide_index()\n",
    "display(df_group.sort_values('high_quality_articles_percentage_per_population',ascending = True).head(2))"
   ]
  },
  {
   "cell_type": "markdown",
   "metadata": {},
   "source": [
    "# Step 6: Results\n",
    "\n",
    "## Q1: Top 10 countries by coverage: 10 highest-ranked countries in terms of number of politician articles as a proportion of country population"
   ]
  },
  {
   "cell_type": "code",
   "execution_count": 273,
   "metadata": {
    "scrolled": true
   },
   "outputs": [
    {
     "data": {
      "text/html": [
       "<div>\n",
       "<style scoped>\n",
       "    .dataframe tbody tr th:only-of-type {\n",
       "        vertical-align: middle;\n",
       "    }\n",
       "\n",
       "    .dataframe tbody tr th {\n",
       "        vertical-align: top;\n",
       "    }\n",
       "\n",
       "    .dataframe thead th {\n",
       "        text-align: right;\n",
       "    }\n",
       "</style>\n",
       "<table border=\"1\" class=\"dataframe\">\n",
       "  <thead>\n",
       "    <tr style=\"text-align: right;\">\n",
       "      <th></th>\n",
       "      <th>country</th>\n",
       "      <th>total_articles_percentage_per_population</th>\n",
       "    </tr>\n",
       "  </thead>\n",
       "  <tbody>\n",
       "    <tr>\n",
       "      <th>169</th>\n",
       "      <td>Tuvalu</td>\n",
       "      <td>0.005400</td>\n",
       "    </tr>\n",
       "    <tr>\n",
       "      <th>117</th>\n",
       "      <td>Nauru</td>\n",
       "      <td>0.004727</td>\n",
       "    </tr>\n",
       "    <tr>\n",
       "      <th>138</th>\n",
       "      <td>San Marino</td>\n",
       "      <td>0.002382</td>\n",
       "    </tr>\n",
       "    <tr>\n",
       "      <th>110</th>\n",
       "      <td>Monaco</td>\n",
       "      <td>0.001053</td>\n",
       "    </tr>\n",
       "    <tr>\n",
       "      <th>95</th>\n",
       "      <td>Liechtenstein</td>\n",
       "      <td>0.000718</td>\n",
       "    </tr>\n",
       "    <tr>\n",
       "      <th>104</th>\n",
       "      <td>Marshall Islands</td>\n",
       "      <td>0.000649</td>\n",
       "    </tr>\n",
       "    <tr>\n",
       "      <th>164</th>\n",
       "      <td>Tonga</td>\n",
       "      <td>0.000636</td>\n",
       "    </tr>\n",
       "    <tr>\n",
       "      <th>70</th>\n",
       "      <td>Iceland</td>\n",
       "      <td>0.000549</td>\n",
       "    </tr>\n",
       "    <tr>\n",
       "      <th>3</th>\n",
       "      <td>Andorra</td>\n",
       "      <td>0.000415</td>\n",
       "    </tr>\n",
       "    <tr>\n",
       "      <th>52</th>\n",
       "      <td>Federated States of Micronesia</td>\n",
       "      <td>0.000340</td>\n",
       "    </tr>\n",
       "  </tbody>\n",
       "</table>\n",
       "</div>"
      ],
      "text/plain": [
       "                            country  total_articles_percentage_per_population\n",
       "169                          Tuvalu                                  0.005400\n",
       "117                           Nauru                                  0.004727\n",
       "138                      San Marino                                  0.002382\n",
       "110                          Monaco                                  0.001053\n",
       "95                    Liechtenstein                                  0.000718\n",
       "104                Marshall Islands                                  0.000649\n",
       "164                           Tonga                                  0.000636\n",
       "70                          Iceland                                  0.000549\n",
       "3                           Andorra                                  0.000415\n",
       "52   Federated States of Micronesia                                  0.000340"
      ]
     },
     "metadata": {},
     "output_type": "display_data"
    }
   ],
   "source": [
    "Q1_top10 = df_group[['country','total_articles_percentage_per_population']].sort_values('total_articles_percentage_per_population',ascending = False).head(10)\n",
    "Q1_top10.to_csv( result_path + 'Q1_Top10_CountriesByCoverage.csv', sep=',', index = False, header = True)\n",
    "display(Q1_top10)"
   ]
  },
  {
   "cell_type": "code",
   "execution_count": 188,
   "metadata": {},
   "outputs": [
    {
     "data": {
      "image/png": "[encoded data removed]",
      "text/plain": [
       "<Figure size 720x360 with 1 Axes>"
      ]
     },
     "metadata": {
      "needs_background": "light"
     },
     "output_type": "display_data"
    }
   ],
   "source": [
    "#Q1_top10.plot.bar(x = 'country', y = 'total_articles_percentage_per_population',rot=45)\n",
    "plt.figure(figsize=(10,5))\n",
    "plt.bar(Q1_top10['country'], Q1_top10['total_articles_percentage_per_population'] )\n",
    "plt.xticks(rotation=45,ha='right',fontsize=fontsize)\n",
    "plt.title(\"Top 10 countries by coverage\",fontweight=\"bold\",fontsize=fontsize)\n",
    "plt.xlabel(\"Country\",fontsize=fontsize)\n",
    "plt.ylabel(\"percentage of articles per population\",fontsize=fontsize);\n",
    "\n",
    "\n",
    "plt.tight_layout()\n",
    "plt.show()"
   ]
  },
  {
   "cell_type": "markdown",
   "metadata": {},
   "source": [
    "## Q2: Bottom 10 countries by coverage: 10 lowest-ranked countries in terms of number of politician articles as a proportion of country population"
   ]
  },
  {
   "cell_type": "code",
   "execution_count": 275,
   "metadata": {},
   "outputs": [
    {
     "data": {
      "text/html": [
       "<div>\n",
       "<style scoped>\n",
       "    .dataframe tbody tr th:only-of-type {\n",
       "        vertical-align: middle;\n",
       "    }\n",
       "\n",
       "    .dataframe tbody tr th {\n",
       "        vertical-align: top;\n",
       "    }\n",
       "\n",
       "    .dataframe thead th {\n",
       "        text-align: right;\n",
       "    }\n",
       "</style>\n",
       "<table border=\"1\" class=\"dataframe\">\n",
       "  <thead>\n",
       "    <tr style=\"text-align: right;\">\n",
       "      <th></th>\n",
       "      <th>country</th>\n",
       "      <th>total_articles_percentage_per_population</th>\n",
       "    </tr>\n",
       "  </thead>\n",
       "  <tbody>\n",
       "    <tr>\n",
       "      <th>71</th>\n",
       "      <td>India</td>\n",
       "      <td>7.035212e-07</td>\n",
       "    </tr>\n",
       "    <tr>\n",
       "      <th>72</th>\n",
       "      <td>Indonesia</td>\n",
       "      <td>7.764804e-07</td>\n",
       "    </tr>\n",
       "    <tr>\n",
       "      <th>34</th>\n",
       "      <td>China</td>\n",
       "      <td>8.079094e-07</td>\n",
       "    </tr>\n",
       "    <tr>\n",
       "      <th>176</th>\n",
       "      <td>Uzbekistan</td>\n",
       "      <td>8.193363e-07</td>\n",
       "    </tr>\n",
       "    <tr>\n",
       "      <th>51</th>\n",
       "      <td>Ethiopia</td>\n",
       "      <td>8.789029e-07</td>\n",
       "    </tr>\n",
       "    <tr>\n",
       "      <th>181</th>\n",
       "      <td>Zambia</td>\n",
       "      <td>1.359878e-06</td>\n",
       "    </tr>\n",
       "    <tr>\n",
       "      <th>84</th>\n",
       "      <td>Korea, North</td>\n",
       "      <td>1.396486e-06</td>\n",
       "    </tr>\n",
       "    <tr>\n",
       "      <th>162</th>\n",
       "      <td>Thailand</td>\n",
       "      <td>1.683350e-06</td>\n",
       "    </tr>\n",
       "    <tr>\n",
       "      <th>114</th>\n",
       "      <td>Mozambique</td>\n",
       "      <td>1.861002e-06</td>\n",
       "    </tr>\n",
       "    <tr>\n",
       "      <th>13</th>\n",
       "      <td>Bangladesh</td>\n",
       "      <td>1.890359e-06</td>\n",
       "    </tr>\n",
       "  </tbody>\n",
       "</table>\n",
       "</div>"
      ],
      "text/plain": [
       "          country  total_articles_percentage_per_population\n",
       "71          India                              7.035212e-07\n",
       "72      Indonesia                              7.764804e-07\n",
       "34          China                              8.079094e-07\n",
       "176    Uzbekistan                              8.193363e-07\n",
       "51       Ethiopia                              8.789029e-07\n",
       "181        Zambia                              1.359878e-06\n",
       "84   Korea, North                              1.396486e-06\n",
       "162      Thailand                              1.683350e-06\n",
       "114    Mozambique                              1.861002e-06\n",
       "13     Bangladesh                              1.890359e-06"
      ]
     },
     "execution_count": 275,
     "metadata": {},
     "output_type": "execute_result"
    }
   ],
   "source": [
    "Q2_top10 = df_group[['country','total_articles_percentage_per_population']].sort_values('total_articles_percentage_per_population',ascending = True).head(10)\n",
    "Q2_top10.to_csv( result_path + 'Q2_Bottom10_CountriesByCoverage.csv', sep=',', index = False, header = True)\n",
    "Q2_top10 "
   ]
  },
  {
   "cell_type": "code",
   "execution_count": 190,
   "metadata": {},
   "outputs": [
    {
     "data": {
      "image/png": "[encoded data removed]",
      "text/plain": [
       "<Figure size 720x360 with 1 Axes>"
      ]
     },
     "metadata": {
      "needs_background": "light"
     },
     "output_type": "display_data"
    }
   ],
   "source": [
    "plt.figure(figsize=(10,5))\n",
    "plt.bar(Q2_top10['country'], Q2_top10['total_articles_percentage_per_population'] )\n",
    "plt.xticks(rotation=45,ha='right',fontsize=fontsize)\n",
    "plt.title(\"Bottom 10 countries by coverage\",fontweight=\"bold\",fontsize=fontsize)\n",
    "plt.xlabel(\"Country\",fontsize=fontsize)\n",
    "plt.ylabel(\"percentage of articles per population\",fontsize=fontsize);\n",
    "plt.show()"
   ]
  },
  {
   "cell_type": "markdown",
   "metadata": {},
   "source": [
    "## Q3: Top 10 countries by relative quality: 10 highest-ranked countries in terms of the relative proportion of politician articles that are of GA and FA-quality"
   ]
  },
  {
   "cell_type": "code",
   "execution_count": 276,
   "metadata": {},
   "outputs": [
    {
     "data": {
      "text/html": [
       "<div>\n",
       "<style scoped>\n",
       "    .dataframe tbody tr th:only-of-type {\n",
       "        vertical-align: middle;\n",
       "    }\n",
       "\n",
       "    .dataframe tbody tr th {\n",
       "        vertical-align: top;\n",
       "    }\n",
       "\n",
       "    .dataframe thead th {\n",
       "        text-align: right;\n",
       "    }\n",
       "</style>\n",
       "<table border=\"1\" class=\"dataframe\">\n",
       "  <thead>\n",
       "    <tr style=\"text-align: right;\">\n",
       "      <th></th>\n",
       "      <th>country</th>\n",
       "      <th>high_quality_articles_percentage_per_population</th>\n",
       "    </tr>\n",
       "  </thead>\n",
       "  <tbody>\n",
       "    <tr>\n",
       "      <th>169</th>\n",
       "      <td>Tuvalu</td>\n",
       "      <td>0.000400</td>\n",
       "    </tr>\n",
       "    <tr>\n",
       "      <th>44</th>\n",
       "      <td>Dominica</td>\n",
       "      <td>0.000014</td>\n",
       "    </tr>\n",
       "    <tr>\n",
       "      <th>177</th>\n",
       "      <td>Vanuatu</td>\n",
       "      <td>0.000009</td>\n",
       "    </tr>\n",
       "    <tr>\n",
       "      <th>70</th>\n",
       "      <td>Iceland</td>\n",
       "      <td>0.000005</td>\n",
       "    </tr>\n",
       "    <tr>\n",
       "      <th>75</th>\n",
       "      <td>Ireland</td>\n",
       "      <td>0.000005</td>\n",
       "    </tr>\n",
       "    <tr>\n",
       "      <th>112</th>\n",
       "      <td>Montenegro</td>\n",
       "      <td>0.000003</td>\n",
       "    </tr>\n",
       "    <tr>\n",
       "      <th>105</th>\n",
       "      <td>Martinique</td>\n",
       "      <td>0.000003</td>\n",
       "    </tr>\n",
       "    <tr>\n",
       "      <th>19</th>\n",
       "      <td>Bhutan</td>\n",
       "      <td>0.000003</td>\n",
       "    </tr>\n",
       "    <tr>\n",
       "      <th>120</th>\n",
       "      <td>New Zealand</td>\n",
       "      <td>0.000003</td>\n",
       "    </tr>\n",
       "    <tr>\n",
       "      <th>135</th>\n",
       "      <td>Romania</td>\n",
       "      <td>0.000002</td>\n",
       "    </tr>\n",
       "  </tbody>\n",
       "</table>\n",
       "</div>"
      ],
      "text/plain": [
       "         country  high_quality_articles_percentage_per_population\n",
       "169       Tuvalu                                         0.000400\n",
       "44      Dominica                                         0.000014\n",
       "177      Vanuatu                                         0.000009\n",
       "70       Iceland                                         0.000005\n",
       "75       Ireland                                         0.000005\n",
       "112   Montenegro                                         0.000003\n",
       "105   Martinique                                         0.000003\n",
       "19        Bhutan                                         0.000003\n",
       "120  New Zealand                                         0.000003\n",
       "135      Romania                                         0.000002"
      ]
     },
     "metadata": {},
     "output_type": "display_data"
    }
   ],
   "source": [
    "Q3_top10 = df_group[['country','high_quality_articles_percentage_per_population']].sort_values('high_quality_articles_percentage_per_population',ascending = False).head(10)\n",
    "Q3_top10.to_csv( result_path + 'Q3_Top10_CountriesByRelativeQuality.csv', sep=',', index = False, header = True)\n",
    "display(Q3_top10)"
   ]
  },
  {
   "cell_type": "code",
   "execution_count": 193,
   "metadata": {},
   "outputs": [
    {
     "data": {
      "image/png": "[encoded data removed]",
      "text/plain": [
       "<Figure size 720x360 with 1 Axes>"
      ]
     },
     "metadata": {
      "needs_background": "light"
     },
     "output_type": "display_data"
    }
   ],
   "source": [
    "plt.figure(figsize=(10,5))\n",
    "plt.bar(Q3_top10['country'], Q3_top10['high_quality_articles_percentage_per_population'] )\n",
    "plt.xticks(rotation=45,ha='right',fontsize=fontsize)\n",
    "plt.title(\"Top 10 countries by relative quality\",fontweight=\"bold\",fontsize=fontsize)\n",
    "plt.xlabel(\"Country\",fontsize=fontsize)\n",
    "plt.ylabel(\"percentage of high quality articles per population\",fontsize=fontsize);\n",
    "plt.show()"
   ]
  },
  {
   "cell_type": "markdown",
   "metadata": {},
   "source": [
    "## Q4: Bottom 10 countries by relative quality: 10 lowest-ranked countries in terms of the relative proportion of politician articles that are of GA and FA-quality"
   ]
  },
  {
   "cell_type": "code",
   "execution_count": 277,
   "metadata": {},
   "outputs": [
    {
     "data": {
      "text/html": [
       "<div>\n",
       "<style scoped>\n",
       "    .dataframe tbody tr th:only-of-type {\n",
       "        vertical-align: middle;\n",
       "    }\n",
       "\n",
       "    .dataframe tbody tr th {\n",
       "        vertical-align: top;\n",
       "    }\n",
       "\n",
       "    .dataframe thead th {\n",
       "        text-align: right;\n",
       "    }\n",
       "</style>\n",
       "<table border=\"1\" class=\"dataframe\">\n",
       "  <thead>\n",
       "    <tr style=\"text-align: right;\">\n",
       "      <th></th>\n",
       "      <th>country</th>\n",
       "      <th>high_quality_articles_percentage_per_population</th>\n",
       "    </tr>\n",
       "  </thead>\n",
       "  <tbody>\n",
       "    <tr>\n",
       "      <th>54</th>\n",
       "      <td>Finland</td>\n",
       "      <td>0.0</td>\n",
       "    </tr>\n",
       "    <tr>\n",
       "      <th>36</th>\n",
       "      <td>Comoros</td>\n",
       "      <td>0.0</td>\n",
       "    </tr>\n",
       "    <tr>\n",
       "      <th>38</th>\n",
       "      <td>Costa Rica</td>\n",
       "      <td>0.0</td>\n",
       "    </tr>\n",
       "    <tr>\n",
       "      <th>43</th>\n",
       "      <td>Djibouti</td>\n",
       "      <td>0.0</td>\n",
       "    </tr>\n",
       "    <tr>\n",
       "      <th>49</th>\n",
       "      <td>Eritrea</td>\n",
       "      <td>0.0</td>\n",
       "    </tr>\n",
       "    <tr>\n",
       "      <th>50</th>\n",
       "      <td>Estonia</td>\n",
       "      <td>0.0</td>\n",
       "    </tr>\n",
       "    <tr>\n",
       "      <th>52</th>\n",
       "      <td>Federated States of Micronesia</td>\n",
       "      <td>0.0</td>\n",
       "    </tr>\n",
       "    <tr>\n",
       "      <th>56</th>\n",
       "      <td>French Guiana</td>\n",
       "      <td>0.0</td>\n",
       "    </tr>\n",
       "    <tr>\n",
       "      <th>148</th>\n",
       "      <td>Solomon Islands</td>\n",
       "      <td>0.0</td>\n",
       "    </tr>\n",
       "    <tr>\n",
       "      <th>62</th>\n",
       "      <td>Grenada</td>\n",
       "      <td>0.0</td>\n",
       "    </tr>\n",
       "  </tbody>\n",
       "</table>\n",
       "</div>"
      ],
      "text/plain": [
       "                            country  \\\n",
       "54                          Finland   \n",
       "36                          Comoros   \n",
       "38                       Costa Rica   \n",
       "43                         Djibouti   \n",
       "49                          Eritrea   \n",
       "50                          Estonia   \n",
       "52   Federated States of Micronesia   \n",
       "56                    French Guiana   \n",
       "148                 Solomon Islands   \n",
       "62                          Grenada   \n",
       "\n",
       "     high_quality_articles_percentage_per_population  \n",
       "54                                               0.0  \n",
       "36                                               0.0  \n",
       "38                                               0.0  \n",
       "43                                               0.0  \n",
       "49                                               0.0  \n",
       "50                                               0.0  \n",
       "52                                               0.0  \n",
       "56                                               0.0  \n",
       "148                                              0.0  \n",
       "62                                               0.0  "
      ]
     },
     "execution_count": 277,
     "metadata": {},
     "output_type": "execute_result"
    }
   ],
   "source": [
    "Q4_top10 = df_group[['country','high_quality_articles_percentage_per_population']].sort_values('high_quality_articles_percentage_per_population',ascending = True).head(10)\n",
    "Q4_top10.to_csv( result_path + 'Q4_Bottom10_CountriesByRelativeQuality.csv', sep=',', index = False, header = True)\n",
    "Q4_top10"
   ]
  },
  {
   "cell_type": "code",
   "execution_count": 233,
   "metadata": {},
   "outputs": [
    {
     "data": {
      "text/plain": [
       "set()"
      ]
     },
     "execution_count": 233,
     "metadata": {},
     "output_type": "execute_result"
    }
   ],
   "source": [
    "set.intersection(set(country_Population.sort_values('Population',ascending = False).head(20)['Name'])\n",
    "                 ,set(Q4_top10['country']))"
   ]
  },
  {
   "cell_type": "code",
   "execution_count": 195,
   "metadata": {},
   "outputs": [
    {
     "data": {
      "image/png": "[encoded data removed]",
      "text/plain": [
       "<Figure size 720x360 with 1 Axes>"
      ]
     },
     "metadata": {
      "needs_background": "light"
     },
     "output_type": "display_data"
    }
   ],
   "source": [
    "plt.figure(figsize=(10,5))\n",
    "plt.bar(Q4_top10['country'], Q4_top10['high_quality_articles_percentage_per_population'] )\n",
    "plt.xticks(rotation=45,ha='right',fontsize=fontsize)\n",
    "plt.title(\"Bottom 10 countries by relative quality\",fontweight=\"bold\",fontsize=fontsize)\n",
    "plt.xlabel(\"Country\",fontsize=fontsize)\n",
    "plt.ylabel(\"percentage of high quality articles per population\",fontsize=fontsize);\n",
    "plt.show()"
   ]
  },
  {
   "cell_type": "markdown",
   "metadata": {},
   "source": [
    "## Q5: Geographic regions by coverage: Ranking of geographic regions (in descending order) in terms of the total count of politician articles from countries in each region as a proportion of total regional population"
   ]
  },
  {
   "cell_type": "code",
   "execution_count": 85,
   "metadata": {},
   "outputs": [
    {
     "data": {
      "text/html": [
       "<div>\n",
       "<style scoped>\n",
       "    .dataframe tbody tr th:only-of-type {\n",
       "        vertical-align: middle;\n",
       "    }\n",
       "\n",
       "    .dataframe tbody tr th {\n",
       "        vertical-align: top;\n",
       "    }\n",
       "\n",
       "    .dataframe thead th {\n",
       "        text-align: right;\n",
       "    }\n",
       "</style>\n",
       "<table border=\"1\" class=\"dataframe\">\n",
       "  <thead>\n",
       "    <tr style=\"text-align: right;\">\n",
       "      <th></th>\n",
       "      <th>sub_region</th>\n",
       "      <th>population</th>\n",
       "      <th>high_quality_article_count</th>\n",
       "      <th>total_articles_count</th>\n",
       "      <th>total_articles_percentage_per_population</th>\n",
       "      <th>high_quality_articles_percentage_per_population</th>\n",
       "    </tr>\n",
       "  </thead>\n",
       "  <tbody>\n",
       "    <tr>\n",
       "      <th>0</th>\n",
       "      <td>CARIBBEAN</td>\n",
       "      <td>39056000.0</td>\n",
       "      <td>13</td>\n",
       "      <td>697</td>\n",
       "      <td>0.000018</td>\n",
       "      <td>3.328554e-07</td>\n",
       "    </tr>\n",
       "  </tbody>\n",
       "</table>\n",
       "</div>"
      ],
      "text/plain": [
       "  sub_region  population  high_quality_article_count  total_articles_count  \\\n",
       "0  CARIBBEAN  39056000.0                          13                   697   \n",
       "\n",
       "   total_articles_percentage_per_population  \\\n",
       "0                                  0.000018   \n",
       "\n",
       "   high_quality_articles_percentage_per_population  \n",
       "0                                     3.328554e-07  "
      ]
     },
     "execution_count": 85,
     "metadata": {},
     "output_type": "execute_result"
    }
   ],
   "source": [
    "df_group_subregion = df_group.groupby(['sub_region'])['population','high_quality_article_count','total_articles_count'].sum().reset_index()\n",
    "df_group_subregion.loc[:,'total_articles_percentage_per_population'] = df_group_subregion['total_articles_count']/df_group_subregion['population']\n",
    "df_group_subregion.loc[:,'high_quality_articles_percentage_per_population'] = df_group_subregion['high_quality_article_count']/df_group_subregion['population']\n",
    "df_group_subregion.head(1)\n"
   ]
  },
  {
   "cell_type": "code",
   "execution_count": null,
   "metadata": {},
   "outputs": [],
   "source": []
  },
  {
   "cell_type": "code",
   "execution_count": 278,
   "metadata": {},
   "outputs": [
    {
     "data": {
      "text/html": [
       "<div>\n",
       "<style scoped>\n",
       "    .dataframe tbody tr th:only-of-type {\n",
       "        vertical-align: middle;\n",
       "    }\n",
       "\n",
       "    .dataframe tbody tr th {\n",
       "        vertical-align: top;\n",
       "    }\n",
       "\n",
       "    .dataframe thead th {\n",
       "        text-align: right;\n",
       "    }\n",
       "</style>\n",
       "<table border=\"1\" class=\"dataframe\">\n",
       "  <thead>\n",
       "    <tr style=\"text-align: right;\">\n",
       "      <th></th>\n",
       "      <th>sub_region</th>\n",
       "      <th>total_articles_percentage_per_population</th>\n",
       "    </tr>\n",
       "  </thead>\n",
       "  <tbody>\n",
       "    <tr>\n",
       "      <th>10</th>\n",
       "      <td>OCEANIA</td>\n",
       "      <td>0.000075</td>\n",
       "    </tr>\n",
       "    <tr>\n",
       "      <th>3</th>\n",
       "      <td>Channel Islands</td>\n",
       "      <td>0.000036</td>\n",
       "    </tr>\n",
       "    <tr>\n",
       "      <th>15</th>\n",
       "      <td>SOUTHERN EUROPE</td>\n",
       "      <td>0.000025</td>\n",
       "    </tr>\n",
       "    <tr>\n",
       "      <th>18</th>\n",
       "      <td>WESTERN EUROPE</td>\n",
       "      <td>0.000023</td>\n",
       "    </tr>\n",
       "    <tr>\n",
       "      <th>0</th>\n",
       "      <td>CARIBBEAN</td>\n",
       "      <td>0.000018</td>\n",
       "    </tr>\n",
       "    <tr>\n",
       "      <th>6</th>\n",
       "      <td>EASTERN EUROPE</td>\n",
       "      <td>0.000013</td>\n",
       "    </tr>\n",
       "    <tr>\n",
       "      <th>14</th>\n",
       "      <td>SOUTHERN AFRICA</td>\n",
       "      <td>0.000010</td>\n",
       "    </tr>\n",
       "    <tr>\n",
       "      <th>1</th>\n",
       "      <td>CENTRAL AMERICA</td>\n",
       "      <td>0.000010</td>\n",
       "    </tr>\n",
       "    <tr>\n",
       "      <th>17</th>\n",
       "      <td>WESTERN ASIA</td>\n",
       "      <td>0.000009</td>\n",
       "    </tr>\n",
       "    <tr>\n",
       "      <th>7</th>\n",
       "      <td>MIDDLE AFRICA</td>\n",
       "      <td>0.000007</td>\n",
       "    </tr>\n",
       "    <tr>\n",
       "      <th>11</th>\n",
       "      <td>SOUTH AMERICA</td>\n",
       "      <td>0.000007</td>\n",
       "    </tr>\n",
       "    <tr>\n",
       "      <th>16</th>\n",
       "      <td>WESTERN AFRICA</td>\n",
       "      <td>0.000006</td>\n",
       "    </tr>\n",
       "    <tr>\n",
       "      <th>5</th>\n",
       "      <td>EASTERN AFRICA</td>\n",
       "      <td>0.000006</td>\n",
       "    </tr>\n",
       "    <tr>\n",
       "      <th>9</th>\n",
       "      <td>NORTHERN AMERICA</td>\n",
       "      <td>0.000005</td>\n",
       "    </tr>\n",
       "    <tr>\n",
       "      <th>8</th>\n",
       "      <td>NORTHERN AFRICA</td>\n",
       "      <td>0.000004</td>\n",
       "    </tr>\n",
       "    <tr>\n",
       "      <th>2</th>\n",
       "      <td>CENTRAL ASIA</td>\n",
       "      <td>0.000003</td>\n",
       "    </tr>\n",
       "    <tr>\n",
       "      <th>13</th>\n",
       "      <td>SOUTHEAST ASIA</td>\n",
       "      <td>0.000003</td>\n",
       "    </tr>\n",
       "    <tr>\n",
       "      <th>12</th>\n",
       "      <td>SOUTH ASIA</td>\n",
       "      <td>0.000002</td>\n",
       "    </tr>\n",
       "    <tr>\n",
       "      <th>4</th>\n",
       "      <td>EAST ASIA</td>\n",
       "      <td>0.000002</td>\n",
       "    </tr>\n",
       "  </tbody>\n",
       "</table>\n",
       "</div>"
      ],
      "text/plain": [
       "          sub_region  total_articles_percentage_per_population\n",
       "10           OCEANIA                                  0.000075\n",
       "3    Channel Islands                                  0.000036\n",
       "15   SOUTHERN EUROPE                                  0.000025\n",
       "18    WESTERN EUROPE                                  0.000023\n",
       "0          CARIBBEAN                                  0.000018\n",
       "6     EASTERN EUROPE                                  0.000013\n",
       "14   SOUTHERN AFRICA                                  0.000010\n",
       "1    CENTRAL AMERICA                                  0.000010\n",
       "17      WESTERN ASIA                                  0.000009\n",
       "7      MIDDLE AFRICA                                  0.000007\n",
       "11     SOUTH AMERICA                                  0.000007\n",
       "16    WESTERN AFRICA                                  0.000006\n",
       "5     EASTERN AFRICA                                  0.000006\n",
       "9   NORTHERN AMERICA                                  0.000005\n",
       "8    NORTHERN AFRICA                                  0.000004\n",
       "2       CENTRAL ASIA                                  0.000003\n",
       "13    SOUTHEAST ASIA                                  0.000003\n",
       "12        SOUTH ASIA                                  0.000002\n",
       "4          EAST ASIA                                  0.000002"
      ]
     },
     "execution_count": 278,
     "metadata": {},
     "output_type": "execute_result"
    }
   ],
   "source": [
    "Q5 = df_group_subregion[['sub_region','total_articles_percentage_per_population']].sort_values('total_articles_percentage_per_population',ascending = False)\n",
    "Q5.to_csv( result_path + 'Q5_GeographicRegionsByCoverage.csv', sep=',', index = False, header = True)\n",
    "Q5"
   ]
  },
  {
   "cell_type": "code",
   "execution_count": 197,
   "metadata": {},
   "outputs": [
    {
     "data": {
      "image/png": "[encoded data removed]",
      "text/plain": [
       "<Figure size 720x360 with 1 Axes>"
      ]
     },
     "metadata": {
      "needs_background": "light"
     },
     "output_type": "display_data"
    }
   ],
   "source": [
    "#Q1_top10.plot.bar(x = 'country', y = 'total_articles_percentage_per_population',rot=45)\n",
    "plt.figure(figsize=(10,5))\n",
    "plt.bar(Q5['sub_region'], Q5['total_articles_percentage_per_population'] )\n",
    "plt.xticks(rotation=45,ha='right',fontsize=fontsize)\n",
    "plt.title(\"Geographic regions by coverage\",fontweight=\"bold\",fontsize=fontsize)\n",
    "plt.xlabel(\"sub_region\",fontsize=fontsize)\n",
    "plt.ylabel(\"percentage of total articles per population\",fontsize=fontsize);\n",
    "plt.show()"
   ]
  },
  {
   "cell_type": "markdown",
   "metadata": {},
   "source": [
    "## Q6: Geographic regions by coverage: Ranking of geographic regions (in descending order) in terms of the relative proportion of politician articles from countries in each region that are of GA and FA-quality"
   ]
  },
  {
   "cell_type": "code",
   "execution_count": 279,
   "metadata": {},
   "outputs": [
    {
     "data": {
      "text/html": [
       "<div>\n",
       "<style scoped>\n",
       "    .dataframe tbody tr th:only-of-type {\n",
       "        vertical-align: middle;\n",
       "    }\n",
       "\n",
       "    .dataframe tbody tr th {\n",
       "        vertical-align: top;\n",
       "    }\n",
       "\n",
       "    .dataframe thead th {\n",
       "        text-align: right;\n",
       "    }\n",
       "</style>\n",
       "<table border=\"1\" class=\"dataframe\">\n",
       "  <thead>\n",
       "    <tr style=\"text-align: right;\">\n",
       "      <th></th>\n",
       "      <th>sub_region</th>\n",
       "      <th>high_quality_articles_percentage_per_population</th>\n",
       "    </tr>\n",
       "  </thead>\n",
       "  <tbody>\n",
       "    <tr>\n",
       "      <th>10</th>\n",
       "      <td>OCEANIA</td>\n",
       "      <td>1.498894e-06</td>\n",
       "    </tr>\n",
       "    <tr>\n",
       "      <th>3</th>\n",
       "      <td>Channel Islands</td>\n",
       "      <td>9.651779e-07</td>\n",
       "    </tr>\n",
       "    <tr>\n",
       "      <th>15</th>\n",
       "      <td>SOUTHERN EUROPE</td>\n",
       "      <td>4.896252e-07</td>\n",
       "    </tr>\n",
       "    <tr>\n",
       "      <th>6</th>\n",
       "      <td>EASTERN EUROPE</td>\n",
       "      <td>4.196510e-07</td>\n",
       "    </tr>\n",
       "    <tr>\n",
       "      <th>0</th>\n",
       "      <td>CARIBBEAN</td>\n",
       "      <td>3.328554e-07</td>\n",
       "    </tr>\n",
       "    <tr>\n",
       "      <th>17</th>\n",
       "      <td>WESTERN ASIA</td>\n",
       "      <td>3.266067e-07</td>\n",
       "    </tr>\n",
       "    <tr>\n",
       "      <th>18</th>\n",
       "      <td>WESTERN EUROPE</td>\n",
       "      <td>2.864758e-07</td>\n",
       "    </tr>\n",
       "    <tr>\n",
       "      <th>9</th>\n",
       "      <td>NORTHERN AMERICA</td>\n",
       "      <td>2.825565e-07</td>\n",
       "    </tr>\n",
       "    <tr>\n",
       "      <th>7</th>\n",
       "      <td>MIDDLE AFRICA</td>\n",
       "      <td>1.774052e-07</td>\n",
       "    </tr>\n",
       "    <tr>\n",
       "      <th>1</th>\n",
       "      <td>CENTRAL AMERICA</td>\n",
       "      <td>1.417417e-07</td>\n",
       "    </tr>\n",
       "    <tr>\n",
       "      <th>14</th>\n",
       "      <td>SOUTHERN AFRICA</td>\n",
       "      <td>1.350783e-07</td>\n",
       "    </tr>\n",
       "    <tr>\n",
       "      <th>13</th>\n",
       "      <td>SOUTHEAST ASIA</td>\n",
       "      <td>1.105967e-07</td>\n",
       "    </tr>\n",
       "    <tr>\n",
       "      <th>16</th>\n",
       "      <td>WESTERN AFRICA</td>\n",
       "      <td>1.066857e-07</td>\n",
       "    </tr>\n",
       "    <tr>\n",
       "      <th>2</th>\n",
       "      <td>CENTRAL ASIA</td>\n",
       "      <td>9.338314e-08</td>\n",
       "    </tr>\n",
       "    <tr>\n",
       "      <th>11</th>\n",
       "      <td>SOUTH AMERICA</td>\n",
       "      <td>9.319925e-08</td>\n",
       "    </tr>\n",
       "    <tr>\n",
       "      <th>5</th>\n",
       "      <td>EASTERN AFRICA</td>\n",
       "      <td>7.885991e-08</td>\n",
       "    </tr>\n",
       "    <tr>\n",
       "      <th>8</th>\n",
       "      <td>NORTHERN AFRICA</td>\n",
       "      <td>7.794936e-08</td>\n",
       "    </tr>\n",
       "    <tr>\n",
       "      <th>4</th>\n",
       "      <td>EAST ASIA</td>\n",
       "      <td>4.654344e-08</td>\n",
       "    </tr>\n",
       "    <tr>\n",
       "      <th>12</th>\n",
       "      <td>SOUTH ASIA</td>\n",
       "      <td>3.609317e-08</td>\n",
       "    </tr>\n",
       "  </tbody>\n",
       "</table>\n",
       "</div>"
      ],
      "text/plain": [
       "          sub_region  high_quality_articles_percentage_per_population\n",
       "10           OCEANIA                                     1.498894e-06\n",
       "3    Channel Islands                                     9.651779e-07\n",
       "15   SOUTHERN EUROPE                                     4.896252e-07\n",
       "6     EASTERN EUROPE                                     4.196510e-07\n",
       "0          CARIBBEAN                                     3.328554e-07\n",
       "17      WESTERN ASIA                                     3.266067e-07\n",
       "18    WESTERN EUROPE                                     2.864758e-07\n",
       "9   NORTHERN AMERICA                                     2.825565e-07\n",
       "7      MIDDLE AFRICA                                     1.774052e-07\n",
       "1    CENTRAL AMERICA                                     1.417417e-07\n",
       "14   SOUTHERN AFRICA                                     1.350783e-07\n",
       "13    SOUTHEAST ASIA                                     1.105967e-07\n",
       "16    WESTERN AFRICA                                     1.066857e-07\n",
       "2       CENTRAL ASIA                                     9.338314e-08\n",
       "11     SOUTH AMERICA                                     9.319925e-08\n",
       "5     EASTERN AFRICA                                     7.885991e-08\n",
       "8    NORTHERN AFRICA                                     7.794936e-08\n",
       "4          EAST ASIA                                     4.654344e-08\n",
       "12        SOUTH ASIA                                     3.609317e-08"
      ]
     },
     "execution_count": 279,
     "metadata": {},
     "output_type": "execute_result"
    }
   ],
   "source": [
    "Q6 = df_group_subregion[['sub_region','high_quality_articles_percentage_per_population']].sort_values('high_quality_articles_percentage_per_population',ascending = False)\n",
    "Q6.to_csv( result_path + 'Q6_GeographicRegionsByRelativeQuality.csv', sep=',', index = False, header = True)\n",
    "Q6"
   ]
  },
  {
   "cell_type": "code",
   "execution_count": 199,
   "metadata": {},
   "outputs": [
    {
     "data": {
      "image/png": "[encoded data removed]",
      "text/plain": [
       "<Figure size 720x360 with 1 Axes>"
      ]
     },
     "metadata": {
      "needs_background": "light"
     },
     "output_type": "display_data"
    }
   ],
   "source": [
    "#Q1_top10.plot.bar(x = 'country', y = 'total_articles_percentage_per_population',rot=45)\n",
    "plt.figure(figsize=(10,5))\n",
    "plt.bar(Q6['sub_region'], Q6['high_quality_articles_percentage_per_population'] )\n",
    "plt.xticks(rotation=45,ha='right',fontsize=fontsize)\n",
    "plt.title(\"Geographic regions by by relative quality\",fontweight=\"bold\",fontsize=fontsize)\n",
    "plt.xlabel(\"sub_region\",fontsize=fontsize)\n",
    "plt.ylabel(\"percentage of high quality articles per population\",fontsize=fontsize);\n",
    "plt.show()"
   ]
  },
  {
   "cell_type": "markdown",
   "metadata": {},
   "source": [
    "# Writeup: Reflections and Implications"
   ]
  },
  {
   "cell_type": "code",
   "execution_count": 251,
   "metadata": {},
   "outputs": [
    {
     "data": {
      "text/plain": [
       "{'Andorra',\n",
       " 'Liechtenstein',\n",
       " 'Marshall Islands',\n",
       " 'Monaco',\n",
       " 'Nauru',\n",
       " 'San Marino',\n",
       " 'Tuvalu'}"
      ]
     },
     "execution_count": 251,
     "metadata": {},
     "output_type": "execute_result"
    }
   ],
   "source": [
    "# Check how many countries with low population has intersection with Q1\n",
    "set.intersection(set(country_Population.sort_values('Population',ascending = True).head(10)['Name'])\n",
    "                 ,set(Q1_top10['country']))"
   ]
  },
  {
   "cell_type": "code",
   "execution_count": 250,
   "metadata": {},
   "outputs": [
    {
     "data": {
      "text/plain": [
       "{'Bangladesh', 'China', 'India', 'Indonesia'}"
      ]
     },
     "execution_count": 250,
     "metadata": {},
     "output_type": "execute_result"
    }
   ],
   "source": [
    "# Check how many countries with high population has intersection with Q2\n",
    "set.intersection(set(country_Population.sort_values('Population',ascending = False).head(10)['Name'])\n",
    "                 ,set(Q2_top10['country']))"
   ]
  },
  {
   "cell_type": "markdown",
   "metadata": {},
   "source": [
    "# * Above result shows top & bottom percentage of articles-per-population are mostly from countries with very low & high population. So there is relation between population and percentage of articles-per-population. \n",
    "\n",
    "<br>\n",
    "\n",
    "# * Oceania & Europe region countries has high percentage of articles-per-population\n",
    "\n",
    "<br>\n",
    "\n",
    "# * North Amrica region countries, US (Rank 163) & Canada (Rank 69) has less percentage of articles-per-population eventhough they are well developed countries. \n",
    "\n",
    "<br>\n",
    "\n",
    "# * We have many countries (~37) with out any high quality articles, thats why we see 0 percentage for Q4. \n",
    "\n",
    "<br>\n",
    "\n",
    "# * We have some countries with out any articles, we excluded them from final analysis\n",
    "\n",
    "<br><br><br>\n"
   ]
  },
  {
   "cell_type": "markdown",
   "metadata": {},
   "source": [
    "## What biases did you expect to find in the data (before you started working with it), and why?\n",
    "   * **Depends on sample data collected year we may see bias towords countries which has peak wiki usage/contribution. In our class we saw the wiki contribution/usage pattern changes over the years.**<br><br>\n",
    "    \n",
    "   * **Expected United States, Canada, United Kingdom, Germany or Spain will have most articles and high quality articles compare to other countries. These countries are democratic, has very high education rate and access to internet. So expected more & good quality artciles.**<br><br>\n",
    "    \n",
    "   * **Majority of articles might be from english speaking countries, so expevted bias in model results towords articles from english speaking countries.**<br><br>\n",
    "      \n",
    "\n",
    "## What (potential) sources of bias did you discover in the course of your data processing and analysis?\n",
    "   * **We don't know politicians and population ratio. So if a country with small population and high percentage of politicians might have more articles coverage rate compare to other.** <br><br>\n",
    "   * **Using Q5 & Q6 results we can see high quality articles per population are from OCEANIA and Europe regions**\n",
    "   \n",
    "## What might your results suggest about (English) Wikipedia as a data source?\n",
    "  * **I think we don't see high quality articles for most of the countries, especially non english speaking countries due to this.**  \n",
    "\n",
    "## What might your results suggest about the internet and global society in general?\n",
    "  * **Surprisingly US & Canada is not in top 10 percentage of articles-per-population, so it shows there is no positive relation with overall internet and global society** \n",
    "\n",
    "## Can you think of a realistic data science research situation where using these data (to train a model, perform a hypothesis-driven research, or make business decisions) might create biased or misleading results, due to the inherent gaps and limitations of the data?\n",
    "\n",
    "\n",
    "## How might a researcher supplement or transform this dataset to potentially correct for the limitations/biases you observed?\n"
   ]
  }
 ],
 "metadata": {
  "kernelspec": {
   "display_name": "Python 3",
   "language": "python",
   "name": "python3"
  },
  "language_info": {
   "codemirror_mode": {
    "name": "ipython",
    "version": 3
   },
   "file_extension": ".py",
   "mimetype": "text/x-python",
   "name": "python",
   "nbconvert_exporter": "python",
   "pygments_lexer": "ipython3",
   "version": "3.7.3"
  }
 },
 "nbformat": 4,
 "nbformat_minor": 2
}
